{
 "cells": [
  {
   "cell_type": "code",
   "execution_count": 1,
   "metadata": {},
   "outputs": [],
   "source": [
    "import yt_dlp as youtube_dl\n",
    "import requests\n",
    "import pytube\n",
    "import re\n",
    "import gradio as gr\n",
    "from langchain_community.document_loaders import YoutubeLoader\n",
    "from langchain.chains.summarize import load_summarize_chain\n",
    "from langchain.text_splitter import RecursiveCharacterTextSplitter\n",
    "from langchain_community.llms import Ollama\n",
    "import tiktoken\n"
   ]
  },
  {
   "cell_type": "code",
   "execution_count": 2,
   "metadata": {},
   "outputs": [],
   "source": [
    "def get_youtube_description(url: str):\n",
    "    try:\n",
    "        full_html = requests.get(url).text\n",
    "        y = re.search(r'shortDescription\":\"', full_html)\n",
    "        desc = \"\"\n",
    "        count = y.start() + 19  # adding the length of the 'shortDescription\":\"\n",
    "        while True:\n",
    "            letter = full_html[count]\n",
    "            if letter == \"\\\"\":\n",
    "                if full_html[count - 1] == \"\\\\\":\n",
    "                    desc += letter\n",
    "                    count += 1\n",
    "                else:\n",
    "                    break\n",
    "            else:\n",
    "                desc += letter\n",
    "                count += 1\n",
    "        return desc\n",
    "    except Exception as e:\n",
    "        return f\"Error: {e}\""
   ]
  },
  {
   "cell_type": "code",
   "execution_count": 3,
   "metadata": {},
   "outputs": [],
   "source": [
    "def get_youtube_info(url: str):\n",
    "    try:\n",
    "        ydl_opts = {\n",
    "        'format': 'best',\n",
    "        'postprocessors': [{\n",
    "            'key': 'FFmpegVideoConvertor',\n",
    "            'preferedformat': 'mp4',  # Convert to mp4 format\n",
    "        }],\n",
    "        }\n",
    "        with youtube_dl.YoutubeDL(ydl_opts) as ydl:\n",
    "            info_dict = ydl.extract_info(url, download=False)\n",
    "            title = info_dict.get('title', 'None')\n",
    "            desc = info_dict.get('description', 'None')\n",
    "        return title, desc\n",
    "    except Exception as e:\n",
    "        return \"Error\", f\"Error: {e}\""
   ]
  },
  {
   "cell_type": "code",
   "execution_count": 49,
   "metadata": {},
   "outputs": [],
   "source": []
  },
  {
   "cell_type": "code",
   "execution_count": 50,
   "metadata": {},
   "outputs": [],
   "source": []
  },
  {
   "cell_type": "code",
   "execution_count": 4,
   "metadata": {},
   "outputs": [],
   "source": [
    "def get_text_splitter(chunk_size: int, overlap_size: int):\n",
    "    return RecursiveCharacterTextSplitter.from_tiktoken_encoder(chunk_size=chunk_size, chunk_overlap=overlap_size)"
   ]
  },
  {
   "cell_type": "code",
   "execution_count": 5,
   "metadata": {},
   "outputs": [],
   "source": [
    "import tiktoken\n",
    "\n",
    "def wrap_docs_to_string(docs):\n",
    "    return \" \".join([doc.page_content for doc in docs]).strip()\n",
    "\n",
    "def get_youtube_transcript_loader_langchain(url):\n",
    "    # This is a placeholder for the actual LangChain YouTube loader function\n",
    "    # Replace this with the actual implementation\n",
    "    from langchain.document_loaders import YoutubeLoader\n",
    "    loader = YoutubeLoader.from_youtube_url(url)\n",
    "    return loader.load()\n",
    "\n",
    "def get_youtube_transcription(url: str):\n",
    "    try:\n",
    "        # Load the transcript using LangChain's YouTube loader\n",
    "        docs = get_youtube_transcript_loader_langchain(url)\n",
    "        \n",
    "        # Combine the document contents into a single string\n",
    "        text = wrap_docs_to_string(docs)\n",
    "        \n",
    "        # Encode the text using the tiktoken encoder for the GPT-4 model\n",
    "        enc = tiktoken.encoding_for_model(\"gpt-4\")\n",
    "        count = len(enc.encode(text))\n",
    "        \n",
    "        return text, count\n",
    "    except Exception as e:\n",
    "        # Return an error message and a count of 0 in case of an exception\n",
    "        return f\"Error: {e}\", 0\n",
    "\n",
    "# Example usage\n",
    "#url = 'https://www.youtube.com/watch?v=NMObj5tBKX4&t=3748s'\n",
    "#transcription, token_count = get_youtube_transcription(url)\n",
    "#print(f\"Transcription: {transcription}\")\n",
    "#print(f\"Token Count: {token_count}\")\n",
    "\n"
   ]
  },
  {
   "cell_type": "code",
   "execution_count": 6,
   "metadata": {},
   "outputs": [],
   "source": [
    "def get_transcription_summary(url: str, temperature: float, chunk_size: int, overlap_size: int):\n",
    "    try:\n",
    "        docs = get_youtube_transcript_loader_langchain(url)\n",
    "        text_splitter = get_text_splitter(chunk_size=chunk_size, overlap_size=overlap_size)\n",
    "        split_docs = text_splitter.split_documents(docs)\n",
    "        llm = Ollama(\n",
    "        model=\"llama3\",\n",
    "        base_url=\"http://localhost:11434\",\n",
    "        temperature=temperature,\n",
    "        )\n",
    "        chain = load_summarize_chain(llm, chain_type=\"map_reduce\")\n",
    "        output = chain.invoke(split_docs)\n",
    "        return output['output_text']\n",
    "    except Exception as e:\n",
    "        return f\"Error: {e}\""
   ]
  },
  {
   "cell_type": "code",
   "execution_count": 7,
   "metadata": {},
   "outputs": [
    {
     "name": "stdout",
     "output_type": "stream",
     "text": [
      "Running on local URL:  http://127.0.0.1:7861\n",
      "\n",
      "To create a public link, set `share=True` in `launch()`.\n"
     ]
    },
    {
     "data": {
      "text/html": [
       "<div><iframe src=\"http://127.0.0.1:7861/\" width=\"100%\" height=\"500\" allow=\"autoplay; camera; microphone; clipboard-read; clipboard-write;\" frameborder=\"0\" allowfullscreen></iframe></div>"
      ],
      "text/plain": [
       "<IPython.core.display.HTML object>"
      ]
     },
     "metadata": {},
     "output_type": "display_data"
    },
    {
     "data": {
      "text/plain": []
     },
     "execution_count": 7,
     "metadata": {},
     "output_type": "execute_result"
    },
    {
     "name": "stdout",
     "output_type": "stream",
     "text": [
      "IMPORTANT: You are using gradio version 4.31.0, however version 4.44.1 is available, please upgrade.\n",
      "--------\n",
      "[youtube] Extracting URL: https://www.youtube.com/watch?v=RcvRphFKE6A\n",
      "[youtube] RcvRphFKE6A: Downloading webpage\n",
      "[youtube] RcvRphFKE6A: Downloading ios player API JSON\n",
      "[youtube] RcvRphFKE6A: Downloading mweb player API JSON\n",
      "[youtube] RcvRphFKE6A: Downloading m3u8 information\n"
     ]
    }
   ],
   "source": [
    "try:\n",
    "    demo.close()\n",
    "except:\n",
    "    pass\n",
    "\n",
    "with gr.Blocks() as demo:\n",
    "    gr.Markdown(\"# YouTube Summarizer with Llama 3\")\n",
    "    with gr.Row(equal_height=True):\n",
    "        with gr.Column(scale=4):\n",
    "            url = gr.Textbox(label='YouTube URL', value=\"https://www.youtube.com/watch?v=RcvRphFKE6A\")\n",
    "        with gr.Column(scale=1):\n",
    "            bttn_info_get = gr.Button('Get Info', variant='primary')\n",
    "            bttn_clear = gr.ClearButton(interactive=True, variant='stop')\n",
    "            \n",
    "    with gr.Row(variant='panel'):\n",
    "        with gr.Column(scale=2):\n",
    "            title = gr.Textbox(label='Title', lines=2, max_lines=10, show_copy_button=True)\n",
    "        with gr.Column(scale=3):\n",
    "            desc = gr.Textbox(label='Description', max_lines=10, autoscroll=False, show_copy_button=True)\n",
    "            bttn_info_get.click(fn=get_youtube_info, inputs=url, outputs=[title, desc], api_name=\"get_youtube_info\")\n",
    "\n",
    "    with gr.Row(equal_height=True):        \n",
    "        with gr.Column():\n",
    "            bttn_trns_get = gr.Button(\"Get Transcription\", variant='primary')\n",
    "            tkncount = gr.Number(label='Token Count (est)')\n",
    "        with gr.Column():\n",
    "            bttn_summ_get = gr.Button(\"Summarize\", variant='primary')\n",
    "            with gr.Row():\n",
    "                with gr.Column(scale=1, min_width=100):\n",
    "                    temperature = gr.Number(label='Temperature', minimum=0.0, step=0.01, precision=-2)\n",
    "                with gr.Column(scale=1, min_width=100):\n",
    "                    chunk = gr.Number(label='Chunk Size', minimum=200, step=100, value=4000)\n",
    "                with gr.Column(scale=1, min_width=100):\n",
    "                    overlap = gr.Number(label='Overlap Size', minimum=0, step=10, value=0)\n",
    "        \n",
    "    with gr.Row():\n",
    "        with gr.Column():\n",
    "            trns_raw = gr.Textbox(label='Transcript', show_copy_button=True)\n",
    "        with gr.Column():\n",
    "            trns_sum = gr.Textbox(label=\"Summary\", show_copy_button=True)\n",
    "    \n",
    "    bttn_trns_get.click(fn=get_youtube_transcription, inputs=url, outputs=[trns_raw, tkncount])\n",
    "    bttn_summ_get.click(fn=get_transcription_summary, inputs=[url, temperature, chunk, overlap], outputs=trns_sum)\n",
    "    bttn_clear.add([url, title, desc, trns_raw, trns_sum, tkncount])\n",
    "\n",
    "demo.launch(share=False)"
   ]
  }
 ],
 "metadata": {
  "kernelspec": {
   "display_name": "genaienv",
   "language": "python",
   "name": "python3"
  },
  "language_info": {
   "codemirror_mode": {
    "name": "ipython",
    "version": 3
   },
   "file_extension": ".py",
   "mimetype": "text/x-python",
   "name": "python",
   "nbconvert_exporter": "python",
   "pygments_lexer": "ipython3",
   "version": "3.10.15"
  }
 },
 "nbformat": 4,
 "nbformat_minor": 2
}
